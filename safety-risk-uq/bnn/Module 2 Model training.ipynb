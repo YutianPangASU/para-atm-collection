{
 "cells": [
  {
   "cell_type": "markdown",
   "id": "c1dbf4a1",
   "metadata": {},
   "source": [
    "### Construct the Bayesian deep learning model "
   ]
  },
  {
   "cell_type": "code",
   "execution_count": 1,
   "id": "40863252",
   "metadata": {},
   "outputs": [
    {
     "data": {
      "text/html": [
       "<style>.container { width:100% !important; }</style>"
      ],
      "text/plain": [
       "<IPython.core.display.HTML object>"
      ]
     },
     "metadata": {},
     "output_type": "display_data"
    }
   ],
   "source": [
    "from IPython.core.display import display, HTML\n",
    "display(HTML(\"<style>.container { width:100% !important; }</style>\"))"
   ]
  },
  {
   "cell_type": "code",
   "execution_count": 2,
   "id": "281c4b83",
   "metadata": {},
   "outputs": [
    {
     "name": "stderr",
     "output_type": "stream",
     "text": [
      "Using TensorFlow backend.\n"
     ]
    }
   ],
   "source": [
    "import pandas as pd\n",
    "import numpy as np\n",
    "from sklearn.model_selection import train_test_split\n",
    "import keras.backend as K\n",
    "from keras.models import Model\n",
    "from keras.layers import Input, Dense, Dropout,LSTM,Activation\n",
    "from keras.optimizers import Adam\n",
    "from keras.regularizers import l1,l2\n",
    "from keras.models import Sequential\n",
    "import matplotlib.pyplot as plt\n",
    "%matplotlib inline\n",
    "import json\n",
    "import seaborn as sns"
   ]
  },
  {
   "cell_type": "code",
   "execution_count": 4,
   "id": "c1c25ad8",
   "metadata": {},
   "outputs": [],
   "source": [
    "all_para=pd.read_csv('all_all_sele_fea_26_spearman.csv')\n",
    "all_para=all_para.values"
   ]
  },
  {
   "cell_type": "code",
   "execution_count": 9,
   "id": "01e6c8dd",
   "metadata": {},
   "outputs": [],
   "source": [
    "### key_list is the one used to do feature sorting and selection\n",
    "key_list=['dis','LATP','LONP','MSQT_1','BAL1','TAS','GS','TH','FLAP','GLS','LOC','N1_1','PTCH','ROLL','TRK','AIL_1','RUDD','ELEV_1',\\\n",
    "         'BLAC','CTAC','FPAC','CCPC','CWPC','WS','WD','ALTR']"
   ]
  },
  {
   "cell_type": "code",
   "execution_count": 10,
   "id": "225c2481",
   "metadata": {},
   "outputs": [],
   "source": [
    "#### sele_key_list is the one used to generate the RNN_x\n",
    "sele_key_list=['CCPC','CTAC','PTCH','ELEV_1','BLAC','N1_1','GS','TAS','GLS','WS','ROLL','FPAC','WD','LONP','TH','LATP','dis','AIL_1','LOC','TRK','BAL1','RUDD','FLAP','ALTR']"
   ]
  },
  {
   "cell_type": "code",
   "execution_count": 11,
   "id": "a13ee688",
   "metadata": {},
   "outputs": [],
   "source": [
    "RNN_x = np.load('RNN_x_sele.npy')\n",
    "RNN_y = np.load('RNN_y.npy')\n",
    "RNN_y_mean = np.mean(RNN_y)\n",
    "RNN_y_std = np.std(RNN_y)\n",
    "stand_RNN_y = (RNN_y-RNN_y_mean)/(RNN_y_std)\n",
    "RNN_y_scale = np.load('RNN_y_scale.npy')\n",
    "RNN_y_scale_reverse = np.exp(RNN_y_scale)-1+np.min(RNN_y)\n",
    "#### the RNN_y_scale_reverse is not the true RNN_y,you need to add the diff to get the true RNN_y\n",
    "### move altr to the first place\n",
    "# new_RNN_x_index = np.insert(np.arange(RNN_x.shape[2]),0,23)[:RNN_x.shape[2]]\n",
    "# RNN_x = RNN_x[:,:,new_RNN_x_index]\n",
    "\n",
    "\n",
    "diff = np.mean(RNN_y)-np.mean(RNN_y_scale_reverse)\n",
    "\n",
    "key_list=['dis','LATP','LONP','MSQT_1','BAL1','TAS','GS','TH','FLAP','GLS','LOC','N1_1','PTCH','ROLL','TRK','AIL_1','RUDD','ELEV_1',\\\n",
    "         'BLAC','CTAC','FPAC','CCPC','CWPC','WS','WD','ALTR']\n",
    "### the difference between key_list and final_key_list is that key_list include latp and lonp\n",
    "height_list=np.array([200,100,50,40,30,20,10,8,6,4,2])\n",
    "\n",
    "\n",
    "def train_data(RNN_x,num_parameter):\n",
    "    return (RNN_x[:,:,:num_parameter])\n",
    "\n",
    "\n",
    "\n",
    "def get_RNN_model(in_shape, idrop=0.25, odrop=0.25, rdrop=0.25, weight_decay=1e-4, lr=1e-3,num_unit=100):\n",
    "\n",
    "    model=Sequential()\n",
    "    model.add(LSTM(num_unit,kernel_regularizer=l2(weight_decay),recurrent_regularizer=l2(weight_decay),bias_regularizer=l2(weight_decay),dropout=idrop,recurrent_dropout=rdrop,input_shape=(None,in_shape),\\\n",
    "                  kernel_initializer='random_uniform',return_sequences=True))\n",
    "\n",
    "    model.add(Activation('relu'))\n",
    "    \n",
    "    model.add(LSTM(num_unit,dropout=idrop,recurrent_dropout=rdrop,return_sequences=False,kernel_regularizer=l2(weight_decay),recurrent_regularizer=l2(weight_decay),bias_regularizer=l2(weight_decay),kernel_initializer='random_uniform',))\n",
    "    model.add(Activation('relu'))\n",
    "    if odrop:\n",
    "        model.add(Dropout(odrop))\n",
    "    model.add(Dense(1,activation='linear',kernel_regularizer=l2(weight_decay),bias_regularizer=l2(weight_decay)))\n",
    "    optimizer_=Adam(lr)\n",
    "    #in the paper variational dropout, learning rate isn't considered\n",
    "#     optimizer=Adam\n",
    "    model.compile(loss='mse',metrics=['mse'],optimizer=optimizer_)\n",
    "    return model\n",
    "\n",
    "def get_RNN_model_2(in_shape, idrop=0.25, odrop=0.25, rdrop=0.25, weight_decay=1e-4, lr=1e-3,num_unit=100):\n",
    "\n",
    "    model=Sequential()\n",
    "    model.add(LSTM(num_unit,kernel_regularizer=l1(weight_decay),recurrent_regularizer=l1(weight_decay),bias_regularizer=l1(weight_decay),dropout=idrop,recurrent_dropout=rdrop,input_shape=(None,in_shape),\\\n",
    "                  kernel_initializer='random_uniform',return_sequences=True))\n",
    "\n",
    "    model.add(Activation('relu'))\n",
    "    \n",
    "    model.add(LSTM(num_unit,dropout=idrop,recurrent_dropout=rdrop,return_sequences=False,kernel_regularizer=l1(weight_decay),recurrent_regularizer=l1(weight_decay),bias_regularizer=l1(weight_decay)))\n",
    "    model.add(Activation('relu'))\n",
    "    if odrop:\n",
    "        model.add(Dropout(odrop))\n",
    "    model.add(Dense(1,activation='linear',kernel_regularizer=l1(weight_decay),bias_regularizer=l1(weight_decay)))\n",
    "    optimizer_=Adam(lr)\n",
    "    #in the paper variational dropout, learning rate isn't considered\n",
    "#     optimizer=Adam\n",
    "    model.compile(loss='mse',metrics=['mse'],optimizer=optimizer_)\n",
    "    return model\n",
    "    \n",
    "    \n",
    "\n",
    "class KerasDPprediction(object):\n",
    "    def __init__(self,model):\n",
    "        self.f= K.function([model.layers[0].input,K.learning_phase()],[model.layers[-1].output])\n",
    "        \n",
    "    def predict(self,x,n_iter=1000):\n",
    "        result=[]\n",
    "        for _ in range(n_iter):\n",
    "            result.append(np.squeeze(self.f([x,1])))\n",
    "        result = np.array(result)\n",
    "        \n",
    "        return result"
   ]
  },
  {
   "cell_type": "code",
   "execution_count": 13,
   "id": "041d0a55",
   "metadata": {},
   "outputs": [
    {
     "name": "stdout",
     "output_type": "stream",
     "text": [
      "j: 0\n",
      "i: 4\n",
      "i: 8\n",
      "i: 12\n",
      "i: 16\n",
      "i: 20\n",
      "i: 24\n"
     ]
    }
   ],
   "source": [
    "## here we're using the last column of the parameters to train the model\n",
    "# final_RNN_x = RNN_x[:,:,final_para_index[:,-1]]\n",
    "sele_key_list=['CCPC','CTAC','PTCH','ELEV_1','BLAC','N1_1','GS','TAS','GLS','WS','ROLL','FPAC','WD','LONP','TH','LATP','dis','AIL_1','LOC','TRK','BAL1','RUDD','FLAP','ALTR']\n",
    "\n",
    "all_all_result = []\n",
    "all_all_RMSE=[]\n",
    "all_all_MAE = []\n",
    "\n",
    "for j in range(1):\n",
    "    print('j: '+str(j))\n",
    "    sort_index = []\n",
    "    sele_col = 2\n",
    "    ### sele_col: 0-4\n",
    "    for i in range(all_para.shape[0]):\n",
    "        if all_para[i,sele_col] in sele_key_list:\n",
    "            sort_index.append(sele_key_list.index(all_para[i,sele_col]))\n",
    "#     sort_index = np.insert(sort_index,0,23)\n",
    "\n",
    "    final_RNN_x = RNN_x[:,:,sort_index]\n",
    "    all_result=[]\n",
    "    all_RMSE=[]\n",
    "    all_MAE = []\n",
    "    for i in np.arange(4,28,4):\n",
    "        print('i: '+str(i))\n",
    "        ### i is the number of parameters taken to construct the training model\n",
    "        partial_data = train_data(final_RNN_x,i)\n",
    "        #### the model is trained based on RNN_y_scale_reverse\n",
    "        RNN_x_train,RNN_x_test,RNN_y_train,RNN_y_test=train_test_split(partial_data[:,:,:], RNN_y_scale_reverse, test_size=0.2, random_state=40)\n",
    "    #     RNN_x_train,RNN_x_test,RNN_y_train,RNN_y_test=train_test_split(partial_data[:,:,:],RNN_y, test_size=0.2, random_state=40)\n",
    "        RNN_model = get_RNN_model(RNN_x_train.shape[2])\n",
    "        RNN_model.fit(RNN_x_train,RNN_y_train,batch_size=30,verbose=False,epochs=200)\n",
    "        kdp = KerasDPprediction(RNN_model)\n",
    "        y_test_pred=kdp.predict(RNN_x_test,1000)\n",
    "        all_result.append(y_test_pred)\n",
    "        mean_y_test_pred = np.mean(y_test_pred,axis=0)\n",
    "        RMSE =np.sqrt(np.mean((mean_y_test_pred-RNN_y_test)**2)) \n",
    "        MAE = np.mean(np.abs(mean_y_test_pred-RNN_y_test))\n",
    "\n",
    "        all_RMSE.append(RMSE)\n",
    "        all_MAE.append(MAE)\n",
    "    all_all_result.append(all_result)\n",
    "    all_all_RMSE.append(all_RMSE)\n",
    "    all_all_MAE.append(all_MAE)"
   ]
  },
  {
   "cell_type": "code",
   "execution_count": 20,
   "id": "d21184a1",
   "metadata": {},
   "outputs": [
    {
     "data": {
      "text/plain": [
       "[<matplotlib.lines.Line2D at 0x1ec49ddd320>]"
      ]
     },
     "execution_count": 20,
     "metadata": {},
     "output_type": "execute_result"
    },
    {
     "data": {
      "image/png": "[encoded data removed]",
      "text/plain": [
       "<Figure size 432x288 with 1 Axes>"
      ]
     },
     "metadata": {
      "needs_background": "light"
     },
     "output_type": "display_data"
    }
   ],
   "source": [
    "plt.plot(all_all_MAE[0])"
   ]
  },
  {
   "cell_type": "code",
   "execution_count": null,
   "id": "8616e950",
   "metadata": {},
   "outputs": [],
   "source": []
  }
 ],
 "metadata": {
  "kernelspec": {
   "display_name": "landing",
   "language": "python",
   "name": "landing"
  },
  "language_info": {
   "codemirror_mode": {
    "name": "ipython",
    "version": 3
   },
   "file_extension": ".py",
   "mimetype": "text/x-python",
   "name": "python",
   "nbconvert_exporter": "python",
   "pygments_lexer": "ipython3",
   "version": "3.6.13"
  }
 },
 "nbformat": 4,
 "nbformat_minor": 5
}
