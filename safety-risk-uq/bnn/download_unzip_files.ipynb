{
 "cells": [
  {
   "cell_type": "code",
   "execution_count": 14,
   "id": "c9371bf4",
   "metadata": {},
   "outputs": [],
   "source": [
    "import numpy as np\n",
    "import zipfile\n",
    "import pandas as pd\n",
    "import wget\n",
    "import zipfile\n",
    "import os\n",
    "import time"
   ]
  },
  {
   "cell_type": "code",
   "execution_count": 13,
   "id": "425fb363",
   "metadata": {},
   "outputs": [],
   "source": [
    "### generate the list of file names you want to download\n",
    "FDR_FILES=[\n",
    "'Tail_687_1.zip',\n",
    "'Tail_687_2.zip',\n",
    "'Tail_687_3.zip',\n",
    "'Tail_687_4.zip',\n",
    "'Tail_687_5.zip',\n",
    "'Tail_687_6.zip',\n",
    "'Tail_687_7.zip',\n",
    "'Tail_687_8.zip',\n",
    "'Tail_687_9.zip']"
   ]
  },
  {
   "cell_type": "code",
   "execution_count": 3,
   "id": "c1300f14",
   "metadata": {},
   "outputs": [],
   "source": [
    "URL_1 = 'https://c3.ndc.nasa.gov/dashlink/static/media/dataset/'"
   ]
  },
  {
   "cell_type": "code",
   "execution_count": 4,
   "id": "38fcbbbe",
   "metadata": {},
   "outputs": [],
   "source": [
    "## path to save the downloaded data\n",
    "newpath = r'dashlink data' \n",
    "if not os.path.exists(newpath):\n",
    "    os.makedirs(newpath)"
   ]
  },
  {
   "cell_type": "code",
   "execution_count": 5,
   "id": "92e46e48",
   "metadata": {},
   "outputs": [],
   "source": [
    "class process_data: \n",
    "    def __init__(self,URL_name):\n",
    "        self.URL_name = URL_name\n",
    "    def download_data(self,file_name):\n",
    "        wget.download(self.URL_name+file_name)\n",
    "    def unzip_file(self,newpath,file_name):\n",
    "#         newpath = r'C:\\Users\\kongy\\Documents\\2021\\dashlink data'\n",
    "        new_path = newpath+'\\\\'+file_name.split('.')[0]\n",
    "        if not os.path.exists(new_path):\n",
    "            os.makedirs(new_path)\n",
    "        with zipfile.ZipFile(file_name,\"r\") as zip_file:\n",
    "            zip_file.extractall(new_path)"
   ]
  },
  {
   "cell_type": "code",
   "execution_count": 6,
   "id": "93a26877",
   "metadata": {},
   "outputs": [
    {
     "name": "stdout",
     "output_type": "stream",
     "text": [
      "0\n",
      "100% [......................................................................] 837761271 / 837761271"
     ]
    }
   ],
   "source": [
    "download_FDR= process_data(URL_1)\n",
    "for i,file_name in enumerate(FDR_FILES):\n",
    "    ### download the zipped file\n",
    "    download_FDR.download_data(file_name)\n",
    "    ### unzip the file and save them\n",
    "    download_FDR.unzip_file(newpath,filename)"
   ]
  }
 ],
 "metadata": {
  "kernelspec": {
   "display_name": "landing",
   "language": "python",
   "name": "landing"
  },
  "language_info": {
   "codemirror_mode": {
    "name": "ipython",
    "version": 3
   },
   "file_extension": ".py",
   "mimetype": "text/x-python",
   "name": "python",
   "nbconvert_exporter": "python",
   "pygments_lexer": "ipython3",
   "version": "3.6.13"
  }
 },
 "nbformat": 4,
 "nbformat_minor": 5
}
