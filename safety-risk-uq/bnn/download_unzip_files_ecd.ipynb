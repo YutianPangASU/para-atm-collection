{
 "cells": [
  {
   "cell_type": "code",
   "execution_count": 1,
   "id": "c9371bf4",
   "metadata": {},
   "outputs": [],
   "source": [
    "import zipfile as zf\n",
    "import wget #must pip install wget\n",
    "import os"
   ]
  },
  {
   "cell_type": "code",
   "execution_count": 24,
   "id": "92e46e48",
   "metadata": {},
   "outputs": [],
   "source": [
    "class ProcessData: \n",
    "    def __init__(self,URL_name,remove_zip=True):\n",
    "        self.URL_name = URL_name\n",
    "        self.remove_zip = remove_zip\n",
    "    def download_zip(self,file_name,output_directory=None):\n",
    "        if output_directory is not None:\n",
    "            if not os.path.exists(output_directory+'/'+file_name):\n",
    "                fname = wget.download(self.URL_name+file_name,out=output_directory)\n",
    "            else:\n",
    "                fname = output_directory + '/'+file_name\n",
    "        else:\n",
    "            if not os.path.exists(file_name):\n",
    "                fname = wget.download(self.URL_name+file_name)\n",
    "            else:\n",
    "                fname = file_name\n",
    "        return fname\n",
    "    def unzip(self,zipfile):\n",
    "        print('zipfile name again: {}'.format(zipfile))\n",
    "        folder = zipfile.split('.zip')[0]\n",
    "        print('folder name: {}'.format(folder))\n",
    "        if not os.path.exists(folder):\n",
    "            os.mkdir(folder)\n",
    "        with zf.ZipFile(zipfile,\"r\") as f:\n",
    "            f.extractall(folder) \n",
    "        if self.remove_zip:\n",
    "            os.remove(zipfile)\n",
    "        return folder"
   ]
  },
  {
   "cell_type": "code",
   "execution_count": 28,
   "id": "93a26877",
   "metadata": {},
   "outputs": [],
   "source": [
    "URL = 'https://c3.ndc.nasa.gov/dashlink/static/media/dataset/'"
   ]
  },
  {
   "cell_type": "code",
   "execution_count": 29,
   "id": "a01922b7",
   "metadata": {},
   "outputs": [],
   "source": [
    "### generate the list of file names you want to download\n",
    "FDR_FILES=[\n",
    "'Tail_687_1.zip',\n",
    "'Tail_687_2.zip',\n",
    "'Tail_687_3.zip',\n",
    "'Tail_687_4.zip',\n",
    "'Tail_687_5.zip',\n",
    "'Tail_687_6.zip',\n",
    "'Tail_687_7.zip',\n",
    "'Tail_687_8.zip',\n",
    "'Tail_687_9.zip']"
   ]
  },
  {
   "cell_type": "code",
   "execution_count": 30,
   "id": "bb35c264",
   "metadata": {},
   "outputs": [],
   "source": [
    "dnldpath = r'../../../dashlink-data' \n",
    "if not os.path.exists(dnldpath):\n",
    "    os.makedirs(dnldpath)\n",
    "    os.chmod(newpath,0o777)"
   ]
  },
  {
   "cell_type": "code",
   "execution_count": 31,
   "id": "9281d523",
   "metadata": {},
   "outputs": [
    {
     "name": "stdout",
     "output_type": "stream",
     "text": [
      "zipfile name again: ../../../dashlink-data/Tail_687_1.zip\n",
      "folder name: ../../../dashlink-data/Tail_687_1\n",
      "100% [......................................................................] 837334163 / 837334163zipfile name again: ../../../dashlink-data/Tail_687_2.zip\n",
      "folder name: ../../../dashlink-data/Tail_687_2\n",
      "100% [......................................................................] 836679202 / 836679202zipfile name again: ../../../dashlink-data/Tail_687_3.zip\n",
      "folder name: ../../../dashlink-data/Tail_687_3\n",
      "100% [......................................................................] 838128255 / 838128255zipfile name again: ../../../dashlink-data/Tail_687_4.zip\n",
      "folder name: ../../../dashlink-data/Tail_687_4\n",
      "100% [......................................................................] 837762029 / 837762029zipfile name again: ../../../dashlink-data/Tail_687_5.zip\n",
      "folder name: ../../../dashlink-data/Tail_687_5\n",
      "100% [......................................................................] 838845723 / 838845723zipfile name again: ../../../dashlink-data/Tail_687_6.zip\n",
      "folder name: ../../../dashlink-data/Tail_687_6\n",
      "100% [......................................................................] 838512845 / 838512845zipfile name again: ../../../dashlink-data/Tail_687_7.zip\n",
      "folder name: ../../../dashlink-data/Tail_687_7\n",
      "100% [......................................................................] 837830084 / 837830084zipfile name again: ../../../dashlink-data/Tail_687_8.zip\n",
      "folder name: ../../../dashlink-data/Tail_687_8\n",
      "100% [......................................................................] 454583276 / 454583276zipfile name again: ../../../dashlink-data/Tail_687_9.zip\n",
      "folder name: ../../../dashlink-data/Tail_687_9\n"
     ]
    }
   ],
   "source": [
    "process = ProcessData(URL,remove_zip=True)\n",
    "for url_zip in FDR_FILES:\n",
    "    ### download the zipped file\n",
    "    zipfile = process.download_zip(url_zip,output_directory=dnldpath)\n",
    "    fname = process.unzip(zipfile)"
   ]
  },
  {
   "cell_type": "code",
   "execution_count": null,
   "id": "14bdee36",
   "metadata": {},
   "outputs": [],
   "source": []
  }
 ],
 "metadata": {
  "kernelspec": {
   "display_name": "Python 3 (ipykernel)",
   "language": "python",
   "name": "python3"
  },
  "language_info": {
   "codemirror_mode": {
    "name": "ipython",
    "version": 3
   },
   "file_extension": ".py",
   "mimetype": "text/x-python",
   "name": "python",
   "nbconvert_exporter": "python",
   "pygments_lexer": "ipython3",
   "version": "3.8.13"
  }
 },
 "nbformat": 4,
 "nbformat_minor": 5
}
