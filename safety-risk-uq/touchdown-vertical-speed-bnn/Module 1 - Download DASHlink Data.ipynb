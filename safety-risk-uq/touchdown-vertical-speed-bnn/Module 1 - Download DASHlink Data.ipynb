{
 "cells": [
  {
   "cell_type": "markdown",
   "id": "bc73afca",
   "metadata": {},
   "source": [
    "# Bayesian Neural Networks to Predict Hard Landing with DASHlink Data\n",
    "Authors: Dr. Yingxiao Kong, Vanderbilt University\n",
    "\n",
    "Email: yingxiao.kong@vanderbit.edu"
   ]
  },
  {
   "cell_type": "markdown",
   "id": "97d94c66",
   "metadata": {},
   "source": [
    "## Overview of Research\n",
    "In this work, we use an open-source dataset - [NASA's DASHlink data](https://c3.ndc.nasa.gov/dashlink/) - to isolate data for landing aircraft that both have hard landing and normal landing occurrences. The objective is to use [this sample data](https://c3.ndc.nasa.gov/dashlink/projects/85/resources/?type=ds) to train a Bayesian Neural Network model to predict touchdown vertical speed for a landing aircraft with the intent to use as a screening for identifying hard landing events before they occur.\n",
    "\n",
    "This series of Jupyter notebook demonstrations into 3 modules. The presented module is in **bold**:\n",
    "- **Module 1 - Download DASHlink Data**\n",
    "- Module 2 - DASHlink Data Pre-Processing and Feature Selection with Maximum Relevance and Minimum Reduandancy (MRMR)\n",
    "- Module 3 - Bayesian Neural Network Model Training"
   ]
  },
  {
   "cell_type": "markdown",
   "id": "f779d761",
   "metadata": {},
   "source": [
    "## Installing the required Python packages\n",
    "\n",
    "The required Python packages for this module are:\n",
    "- ***```wget```***\n",
    "- ***```zipfile```***\n",
    "- ***```scipy```***\n",
    "\n",
    "In the Ubuntu or Anaconda terminal, execute ```conda install scipy zipfile```. However, the correct version of ```wget``` can only be installed with ```pip``` so execute ```pip install wget```. "
   ]
  },
  {
   "cell_type": "markdown",
   "id": "d6c0267b",
   "metadata": {},
   "source": [
    "# Module 1 - Download DASHlink Data\n",
    "We will be using the Sample Flight Data from the DASHlink dataset contained [here](https://c3.ndc.nasa.gov/dashlink/projects/85/resources/?type=ds). Each dataset consists of multiple zip files containing individual flight recorded data in Matlab file (```.mat```) format. "
   ]
  },
  {
   "cell_type": "markdown",
   "id": "35c040a4",
   "metadata": {},
   "source": [
    "## Step 1: Import and Instantiate ```DASHlinkDownloader``` class"
   ]
  },
  {
   "cell_type": "code",
   "execution_count": null,
   "id": "93a26877",
   "metadata": {},
   "outputs": [],
   "source": [
    "from dataUtils import DASHlinkDownloader\n",
    "\n",
    "BASE_URL = 'https://c3.ndc.nasa.gov/dashlink/static/media/dataset/'\n",
    "\n",
    "downloader = DASHlinkDownloader(BASE_URL,remove_zip=True)"
   ]
  },
  {
   "cell_type": "markdown",
   "id": "8a065a03",
   "metadata": {},
   "source": [
    "## Step 2: Define DASHlink .zip Files to Download\n",
    "There are 35 datasets contained for different \"tail numbers\" sequentially ordered from 652 to 687. Here, we analyze the contents of ```TAIL_NO=687```. Within each dataset are up to 9 zip files that we aim to download.  "
   ]
  },
  {
   "cell_type": "code",
   "execution_count": null,
   "id": "a01922b7",
   "metadata": {},
   "outputs": [],
   "source": [
    "TAIL_NO = 687\n",
    "ZIP_FILES=['Tail_{}_{}.zip'.format(TAIL_NO,i) for i in range(1,9+1)]\n",
    "print(ZIP_FILES)"
   ]
  },
  {
   "cell_type": "markdown",
   "id": "9de58772",
   "metadata": {},
   "source": [
    "## Step 3: Specify Download Path relative to Local Directory"
   ]
  },
  {
   "cell_type": "code",
   "execution_count": null,
   "id": "c9817a2c",
   "metadata": {},
   "outputs": [],
   "source": [
    "OUTPUT_DIRECTORY = r'../../../dashlink-data'"
   ]
  },
  {
   "cell_type": "markdown",
   "id": "bc70d37f",
   "metadata": {},
   "source": [
    "## Step 4: Use ```download_zip``` and ```unzip``` functions"
   ]
  },
  {
   "cell_type": "code",
   "execution_count": null,
   "id": "9281d523",
   "metadata": {},
   "outputs": [],
   "source": [
    "for zf in ZIP_FILES:\n",
    "    ### download the zipped file\n",
    "    zipfile = downloader.download_zip(zf,output_directory=OUTPUT_DIRECTORY)\n",
    "    fname = downloader.unzip(zipfile)"
   ]
  },
  {
   "cell_type": "markdown",
   "id": "1338c984",
   "metadata": {},
   "source": [
    "## Step 5: View Contents of a ```.mat``` file"
   ]
  },
  {
   "cell_type": "code",
   "execution_count": null,
   "id": "e4d465d9",
   "metadata": {},
   "outputs": [],
   "source": [
    "import glob\n",
    "downloaded_mat_files = glob.glob(OUTPUT_DIRECTORY+'/**/*.mat',recursive=True)\n",
    "print('Number of downloaded .mat files: ',len(downloaded_mat_files))\n",
    "mat_file = downloaded_mat_files[2] ## File known to have 'PH' == 7 (landing rollout phase)\n",
    "print(mat_file)"
   ]
  },
  {
   "cell_type": "code",
   "execution_count": null,
   "id": "1f2e9d62",
   "metadata": {},
   "outputs": [],
   "source": [
    "import scipy.io as scio\n",
    "data = scio.loadmat(mat_file)\n",
    "data"
   ]
  },
  {
   "cell_type": "code",
   "execution_count": null,
   "id": "38b147fe",
   "metadata": {},
   "outputs": [],
   "source": [
    "keys=['LATP','LONP','MSQT_1','BAL1','TAS','GS','TH','FLAP','GLS','LOC','N1_1','PTCH','ROLL','TRK','AIL_1','RUDD','ELEV_1',\\\n",
    "      'BLAC','CTAC','FPAC','CCPC','CWPC','WS','WD','ALTR']\n",
    "\n",
    "import matplotlib.pyplot as plt\n",
    "fig,axes = plt.subplots(5,6,figsize=(15,15))\n",
    "axes = axes.flatten()\n",
    "for i,key in enumerate(keys):\n",
    "    ax = axes[i]\n",
    "    ax.plot(data[key][0][0][0])\n",
    "    ax.set_ylabel(key)\n",
    "fig.subplots_adjust(wspace=0.55)"
   ]
  }
 ],
 "metadata": {
  "kernelspec": {
   "display_name": "Python 3 (ipykernel)",
   "language": "python",
   "name": "python3"
  },
  "language_info": {
   "codemirror_mode": {
    "name": "ipython",
    "version": 3
   },
   "file_extension": ".py",
   "mimetype": "text/x-python",
   "name": "python",
   "nbconvert_exporter": "python",
   "pygments_lexer": "ipython3",
   "version": "3.8.13"
  }
 },
 "nbformat": 4,
 "nbformat_minor": 5
}
